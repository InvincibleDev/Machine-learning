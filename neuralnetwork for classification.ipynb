{
 "cells": [
  {
   "cell_type": "code",
   "execution_count": 225,
   "metadata": {},
   "outputs": [],
   "source": [
    "import numpy as np"
   ]
  },
  {
   "cell_type": "code",
   "execution_count": 226,
   "metadata": {},
   "outputs": [
    {
     "name": "stdout",
     "output_type": "stream",
     "text": [
      "[[0 0 0]\n",
      " [0 1 1]\n",
      " [1 1 0]\n",
      " [1 1 1]\n",
      " [0 0 1]\n",
      " [0 1 0]\n",
      " [1 0 0]] [[0]\n",
      " [0]\n",
      " [0]\n",
      " [1]\n",
      " [1]\n",
      " [1]\n",
      " [1]]\n"
     ]
    }
   ],
   "source": [
    "#input data\n",
    "input_data=np.array([[0,0,0],\n",
    "                     [0,1,1],\n",
    "                     [1,1,0],\n",
    "                     [1,1,1],\n",
    "                     [0,0,1],\n",
    "                     [0,1,0],\n",
    "                     [1,0,0]])\n",
    "\n",
    "output_labels = np.array([[0],\n",
    "                          [0],\n",
    "                          [0],\n",
    "                          [1],\n",
    "                         [1],\n",
    "                         [1],\n",
    "                         [1]])\n",
    "\n",
    "print(input_data, output_labels)"
   ]
  },
  {
   "cell_type": "code",
   "execution_count": 227,
   "metadata": {},
   "outputs": [],
   "source": [
    "def activate(x):\n",
    "    return 1/(1+np.exp(-x))"
   ]
  },
  {
   "cell_type": "code",
   "execution_count": 228,
   "metadata": {},
   "outputs": [],
   "source": [
    "def transfer_derivative(output):\n",
    "    return output *(1-output)"
   ]
  },
  {
   "cell_type": "code",
   "execution_count": 238,
   "metadata": {},
   "outputs": [],
   "source": [
    "np.random.seed(1)\n",
    "w0=np.random.random((3,5))-1\n",
    "w1=np.random.random((5,1))-1"
   ]
  },
  {
   "cell_type": "code",
   "execution_count": 239,
   "metadata": {},
   "outputs": [],
   "source": [
    "def feed_forward(input_data):\n",
    "    layer0=input_data\n",
    "    layer1= activate(np.dot(layer0,w0))\n",
    "    layer2= activate(np.dot(layer1,w1))\n",
    "    \n",
    "    return layer0,layer1,layer2"
   ]
  },
  {
   "cell_type": "code",
   "execution_count": 240,
   "metadata": {},
   "outputs": [],
   "source": [
    "def backpropogate(j, layer0,layer1,layer2,w1,w0,learning_rate):\n",
    "    l2_error=layer2-output_labels\n",
    "    \n",
    "    if(j%1000==0):\n",
    "        print(\"Error:\"+str(np.mean(np.abs(l2_error))))\n",
    "    \n",
    "    l2_delta=l2_error*transfer_derivative(layer2)\n",
    "    dl2=layer1.T.dot(l2_delta)\n",
    "    \n",
    "    l1_error=l2_delta.dot(w1.T)\n",
    "    l1_delta= l1_error*transfer_derivative(layer1)\n",
    "    dl1=layer0.T.dot(l1_delta)\n",
    "    \n",
    "    w1 -= dl2*learning_rate\n",
    "    w0 -= dl1*learning_rate\n",
    "    \n",
    "    return w1,w0"
   ]
  },
  {
   "cell_type": "code",
   "execution_count": 250,
   "metadata": {},
   "outputs": [
    {
     "name": "stdout",
     "output_type": "stream",
     "text": [
      "Error:0.0359680507141046\n",
      "Error:0.03510145338305724\n",
      "Error:0.03429202043687702\n",
      "Error:0.03353382037134841\n",
      "Error:0.032821742441892\n",
      "Error:0.03215135690076036\n",
      "Error:0.03151880316418963\n",
      "Error:0.03092069956098087\n",
      "Error:0.03035406991950818\n",
      "Error:0.02981628341123917\n",
      "Error:0.029305004918503113\n",
      "Error:0.028818153822827604\n",
      "Error:0.028353869579979707\n",
      "Error:0.02791048280237419\n",
      "Error:0.027486490839422378\n",
      "Error:0.027080537053640347\n",
      "Error:0.026691393150699443\n",
      "Error:0.026317944046643022\n",
      "Error:0.025959174853650218\n",
      "Error:0.025614159643314323\n",
      "Error:0.025282051708106816\n",
      "Error:0.024962075091063074\n",
      "Error:0.024653517193446\n",
      "Error:0.024355722302273248\n",
      "Error:0.024068085905718954\n",
      "Error:0.023790049685743938\n",
      "Error:0.02352109709482863\n",
      "Error:0.023260749438128826\n",
      "Error:0.023008562394334204\n",
      "Error:0.022764122918454893\n"
     ]
    }
   ],
   "source": [
    "for i in range(30000):\n",
    "    layer0 ,layer1 ,layer2 = feed_forward(input_data)\n",
    "    w1,w0= backpropogate(i,layer0,layer1,layer2,w1,w0,0.05)"
   ]
  },
  {
   "cell_type": "code",
   "execution_count": 251,
   "metadata": {},
   "outputs": [],
   "source": [
    "layer0 ,layer1, layer2= feed_forward([1,1,1])"
   ]
  },
  {
   "cell_type": "code",
   "execution_count": 252,
   "metadata": {},
   "outputs": [
    {
     "name": "stdout",
     "output_type": "stream",
     "text": [
      "[0.99399122]\n"
     ]
    }
   ],
   "source": [
    "print(layer2)"
   ]
  },
  {
   "cell_type": "code",
   "execution_count": 253,
   "metadata": {},
   "outputs": [
    {
     "data": {
      "text/plain": [
       "array([[-0.18695717,  4.20051045, -3.1728951 , -3.76583456,  6.42629549],\n",
       "       [ 1.35024808, -8.06097923, -4.95012172, -3.61513109, -3.63237613],\n",
       "       [-0.39051507,  4.18334426, -3.03159967,  6.40180397, -3.91440097]])"
      ]
     },
     "execution_count": 253,
     "metadata": {},
     "output_type": "execute_result"
    }
   ],
   "source": [
    "w0\n"
   ]
  },
  {
   "cell_type": "code",
   "execution_count": 254,
   "metadata": {},
   "outputs": [
    {
     "data": {
      "text/plain": [
       "array([[ 4.70061322],\n",
       "       [10.30625326],\n",
       "       [-6.40490805],\n",
       "       [-7.77347922],\n",
       "       [-7.98001922]])"
      ]
     },
     "execution_count": 254,
     "metadata": {},
     "output_type": "execute_result"
    }
   ],
   "source": [
    "w1"
   ]
  },
  {
   "cell_type": "code",
   "execution_count": null,
   "metadata": {},
   "outputs": [],
   "source": []
  }
 ],
 "metadata": {
  "kernelspec": {
   "display_name": "Python 3",
   "language": "python",
   "name": "python3"
  },
  "language_info": {
   "codemirror_mode": {
    "name": "ipython",
    "version": 3
   },
   "file_extension": ".py",
   "mimetype": "text/x-python",
   "name": "python",
   "nbconvert_exporter": "python",
   "pygments_lexer": "ipython3",
   "version": "3.6.5"
  }
 },
 "nbformat": 4,
 "nbformat_minor": 2
}
