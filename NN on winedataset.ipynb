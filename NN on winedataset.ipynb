{
 "cells": [
  {
   "cell_type": "code",
   "execution_count": 34,
   "metadata": {},
   "outputs": [],
   "source": [
    "import numpy as np\n",
    "import pandas as pd\n",
    "\n",
    "from sklearn.datasets import load_wine\n",
    "\n",
    "from sklearn.model_selection import train_test_split\n",
    "import matplotlib.pyplot as plt"
   ]
  },
  {
   "cell_type": "code",
   "execution_count": 35,
   "metadata": {},
   "outputs": [],
   "source": [
    "wine = load_wine()\n",
    "f=pd.DataFrame(wine.data,columns=wine.feature_names)\n",
    "t=pd.DataFrame(wine.target,columns=['target'])\n",
    "\n"
   ]
  },
  {
   "cell_type": "code",
   "execution_count": 36,
   "metadata": {},
   "outputs": [],
   "source": [
    "xtrain, xtest ,ytrain ,ytest=train_test_split(f,t,test_size=0.9) "
   ]
  },
  {
   "cell_type": "code",
   "execution_count": 37,
   "metadata": {
    "scrolled": true
   },
   "outputs": [],
   "source": [
    "basex= np.array(xtrain.values)\n",
    "target=np.array(ytrain['target'])\n",
    "    \n",
    "xtest= np.array(xtest.values)\n",
    "ytest=np.array(ytest['target'])\n"
   ]
  },
  {
   "cell_type": "code",
   "execution_count": 38,
   "metadata": {},
   "outputs": [],
   "source": [
    "nt =[]\n",
    "for i in range(len(target)):\n",
    "    if target[i]==0:\n",
    "        nt.append([1,0,0])\n",
    "    if target[i]==1:\n",
    "        nt.append([0,1,0])\n",
    "    if target[i]==2:\n",
    "        nt.append([0,0,1])  \n"
   ]
  },
  {
   "cell_type": "code",
   "execution_count": 39,
   "metadata": {},
   "outputs": [],
   "source": [
    "def activate(x):\n",
    "    return 1/(1+np.exp(-x))"
   ]
  },
  {
   "cell_type": "code",
   "execution_count": 40,
   "metadata": {},
   "outputs": [],
   "source": [
    "def transfer_derivative(output):\n",
    "    return output *(1-output)"
   ]
  },
  {
   "cell_type": "code",
   "execution_count": 41,
   "metadata": {},
   "outputs": [],
   "source": [
    "np.random.seed(4)\n",
    "w0=np.random.random((13,31))-1\n",
    "w1=np.random.random((31,31))-1\n",
    "w2=np.random.random((31,31))-1\n",
    "w3=np.random.random((31,31))-1\n",
    "w4=np.random.random((31,3))-1"
   ]
  },
  {
   "cell_type": "code",
   "execution_count": 42,
   "metadata": {},
   "outputs": [],
   "source": [
    "def feed_forward(input_data):\n",
    "    layer0=input_data\n",
    "    layer1= activate(np.dot(layer0,w0))\n",
    "    layer2= activate(np.dot(layer1,w1))\n",
    "    layer3=activate(np.dot(layer2,w2))\n",
    "    layer4=activate(np.dot(layer3,w3))\n",
    "    layer5=activate(np.dot(layer4,w4))\n",
    "\n",
    "    return layer0,layer1,layer2,layer3,layer4, layer5"
   ]
  },
  {
   "cell_type": "code",
   "execution_count": 92,
   "metadata": {},
   "outputs": [],
   "source": [
    "def backpropogate(j, layer0,layer1,layer2,layer3,layer4,layer5, w4,w1,w0,w2,w3,learning_rate, output_labels):\n",
    "    \n",
    "    l5_error = layer5-output_labels\n",
    "    l5_grad = l5_error*transfer_derivative(layer5)\n",
    "    \n",
    "    l4_error = l5_grad.dot(w4.T)\n",
    "    l4_grad= l4_error*transfer_derivative(layer4)\n",
    "    \n",
    "    l3_error = l4_grad.dot(w3.T)\n",
    "    l3_grad= l3_error*transfer_derivative(layer3)\n",
    "    \n",
    "    l2_error=l3_grad.dot(w2.T)\n",
    "    l2_grad= l2_error*transfer_derivative(layer2)\n",
    "    \n",
    "    l1_error=l2_grad.dot(w1.T)\n",
    "    l1_grad= l1_error*transfer_derivative(layer1)\n",
    "    \n",
    "    w4 += layer4.T.dot(l5_grad*learning_rate)\n",
    "    w3 += layer3.T.dot(l4_grad*learning_rate)\n",
    "    w2 += layer2.T.dot(l3_grad*learning_rate)\n",
    "    w1 += layer1.T.dot(l2_grad*learning_rate)\n",
    "    w0 += layer0.T.dot(l1_grad*learning_rate)\n",
    "    \n",
    "    if(j%10000==0):\n",
    "        print(\"Error:\"+str(np.mean(np.abs(l5_error))))"
   ]
  },
  {
   "cell_type": "code",
   "execution_count": 101,
   "metadata": {
    "scrolled": true
   },
   "outputs": [
    {
     "name": "stdout",
     "output_type": "stream",
     "text": [
      "Error:0.3333333333867762\n",
      "Error:0.3333333333867759\n",
      "Error:0.3333333333867756\n",
      "Error:0.3333333333867753\n",
      "Error:0.3333333333867749\n",
      "Error:0.3333333333867748\n",
      "Error:0.3333333333867745\n",
      "Error:0.33333333338677407\n",
      "Error:0.3333333333867738\n",
      "Error:0.3333333333867735\n"
     ]
    }
   ],
   "source": [
    "for i in range(100000):\n",
    "    layer0 ,layer1 ,layer2,layer3,layer4, layer5 = feed_forward(basex)\n",
    "    backpropogate(i,layer0,layer1,layer2,layer3,layer4,layer5,w4, w1,w0,w2,w3,0.1,nt)"
   ]
  },
  {
   "cell_type": "code",
   "execution_count": 102,
   "metadata": {},
   "outputs": [],
   "source": [
    "def acc(xt,yt):\n",
    "    l0,l1,l2,l3,l4,l5=feed_forward(xt)\n",
    "    correct=0\n",
    "    for i in range(len(xt)):\n",
    "        \n",
    "        if(np.argmax(l5[i])==yt[i]):\n",
    "            correct+=1\n",
    "    print(f\"Accuracy :{(correct/len(yt))}\")    "
   ]
  },
  {
   "cell_type": "code",
   "execution_count": 103,
   "metadata": {
    "scrolled": true
   },
   "outputs": [
    {
     "name": "stdout",
     "output_type": "stream",
     "text": [
      "Accuracy :0.23529411764705882\n"
     ]
    }
   ],
   "source": [
    "acc(basex,target)"
   ]
  },
  {
   "cell_type": "code",
   "execution_count": null,
   "metadata": {},
   "outputs": [],
   "source": []
  },
  {
   "cell_type": "code",
   "execution_count": null,
   "metadata": {},
   "outputs": [],
   "source": []
  },
  {
   "cell_type": "code",
   "execution_count": null,
   "metadata": {},
   "outputs": [],
   "source": []
  }
 ],
 "metadata": {
  "kernelspec": {
   "display_name": "Python 3",
   "language": "python",
   "name": "python3"
  },
  "language_info": {
   "codemirror_mode": {
    "name": "ipython",
    "version": 3
   },
   "file_extension": ".py",
   "mimetype": "text/x-python",
   "name": "python",
   "nbconvert_exporter": "python",
   "pygments_lexer": "ipython3",
   "version": "3.6.5"
  }
 },
 "nbformat": 4,
 "nbformat_minor": 2
}
