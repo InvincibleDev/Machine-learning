{
 "cells": [
  {
   "cell_type": "code",
   "execution_count": 135,
   "metadata": {},
   "outputs": [],
   "source": [
    "import numpy as np\n",
    "import pandas as pd\n",
    "\n",
    "from sklearn.datasets import load_wine\n",
    "\n",
    "from sklearn.model_selection import train_test_split\n",
    "import matplotlib.pyplot as plt"
   ]
  },
  {
   "cell_type": "code",
   "execution_count": 136,
   "metadata": {},
   "outputs": [
    {
     "data": {
      "text/plain": [
       "['alcohol',\n",
       " 'malic_acid',\n",
       " 'ash',\n",
       " 'alcalinity_of_ash',\n",
       " 'magnesium',\n",
       " 'total_phenols',\n",
       " 'flavanoids',\n",
       " 'nonflavanoid_phenols',\n",
       " 'proanthocyanins',\n",
       " 'color_intensity',\n",
       " 'hue',\n",
       " 'od280/od315_of_diluted_wines',\n",
       " 'proline']"
      ]
     },
     "execution_count": 136,
     "metadata": {},
     "output_type": "execute_result"
    }
   ],
   "source": [
    "wine = load_wine()\n",
    "f=pd.DataFrame(wine.data,columns=wine.feature_names)\n",
    "t=pd.DataFrame(wine.target,columns=['target'])\n",
    "wine.feature_names"
   ]
  },
  {
   "cell_type": "code",
   "execution_count": 137,
   "metadata": {},
   "outputs": [],
   "source": [
    "xtrain, xtest ,ytrain ,ytest=train_test_split(f,t,test_size=0.3) "
   ]
  },
  {
   "cell_type": "code",
   "execution_count": 148,
   "metadata": {},
   "outputs": [],
   "source": [
    "f1='malic_acid'\n",
    "f2='ash'\n",
    "f3='magnesium'\n",
    "basex=np.array(xtrain[[f1,f2,f3]])\n",
    "basey=np.array(ytrain['target'])\n",
    "\n",
    "xtest= np.array(xtrain[[f1,f2,f3]])\n",
    "ytest=np.array(ytrain['target'])\n"
   ]
  },
  {
   "cell_type": "code",
   "execution_count": 149,
   "metadata": {},
   "outputs": [
    {
     "data": {
      "text/plain": [
       "<matplotlib.collections.PathCollection at 0x284d69292e8>"
      ]
     },
     "execution_count": 149,
     "metadata": {},
     "output_type": "execute_result"
    },
    {
     "data": {
      "image/png": "[encoded data removed]",
      "text/plain": [
       "<Figure size 432x288 with 1 Axes>"
      ]
     },
     "metadata": {},
     "output_type": "display_data"
    }
   ],
   "source": [
    "plt.scatter(x.iloc[:,0],x.iloc[:,1])"
   ]
  },
  {
   "cell_type": "code",
   "execution_count": null,
   "metadata": {},
   "outputs": [],
   "source": []
  },
  {
   "cell_type": "code",
   "execution_count": 150,
   "metadata": {},
   "outputs": [],
   "source": [
    "k = 3\n",
    "tol = 0.001\n",
    "max_iter = 300"
   ]
  },
  {
   "cell_type": "code",
   "execution_count": 151,
   "metadata": {},
   "outputs": [],
   "source": [
    "colors = 10*[\"g\",\"r\",\"c\",\"b\",\"k\",'y']"
   ]
  },
  {
   "cell_type": "code",
   "execution_count": 152,
   "metadata": {},
   "outputs": [],
   "source": [
    "def fit(data,k,max_iter,tol):\n",
    "\n",
    "    centroids = {}\n",
    "#     print(data)\n",
    "    for i in range(k):\n",
    "        centroids[i] = data[i]\n",
    "\n",
    "    for i in range(max_iter):\n",
    "        classifications = {}\n",
    "\n",
    "        for i in range(k):\n",
    "            classifications[i] = []\n",
    "\n",
    "        for featureset in data:\n",
    "            distances = [np.linalg.norm(featureset-centroids[centroid]) for centroid in centroids]\n",
    "            classification = distances.index(min(distances))\n",
    "            classifications[classification].append(featureset)\n",
    "\n",
    "        prev_centroids = dict(centroids)\n",
    "\n",
    "        for classification in classifications: \n",
    "            centroids[classification] = np.average(classifications[classification],axis=0)\n",
    "           \n",
    "\n",
    "        optimized = True\n",
    "\n",
    "        for c in centroids:\n",
    "            original_centroid = prev_centroids[c]\n",
    "            current_centroid = centroids[c]\n",
    "            if original_centroid[c]==current_centroid[c]:\n",
    "            #if np.sum((current_centroid-original_centroid)/original_centroid*100.0) > tol:\n",
    "            #    print(np.sum((current_centroid-original_centroid)/original_centroid*100.0))\n",
    "                optimized = False\n",
    "\n",
    "        if optimized:\n",
    "            break\n",
    "    return centroids, classifications\n",
    "\n",
    "def predict(data,centroids):\n",
    "    distances = [np.linalg.norm(data-centroids[centroid]) for centroid in centroids]\n",
    "    classification = distances.index(min(distances))\n",
    "    return classification  "
   ]
  },
  {
   "cell_type": "code",
   "execution_count": 153,
   "metadata": {},
   "outputs": [
    {
     "data": {
      "image/png": "[encoded data removed]",
      "text/plain": [
       "<Figure size 432x288 with 1 Axes>"
      ]
     },
     "metadata": {},
     "output_type": "display_data"
    }
   ],
   "source": [
    "\n",
    "#X = np.array([[1, 2],\n",
    "#              [1.5, 1.8],\n",
    "#              [5, 8 ],\n",
    "#              [8, 8],\n",
    "#              [1, 0.6],\n",
    "#              [9,11]])\n",
    "\n",
    "plt.scatter(X[:,0], X[:,1], s=150)\n",
    "plt.show()"
   ]
  },
  {
   "cell_type": "code",
   "execution_count": 163,
   "metadata": {},
   "outputs": [],
   "source": [
    "centroids, classifications = fit(basex,k,max_iter,tol)\n"
   ]
  },
  {
   "cell_type": "code",
   "execution_count": 164,
   "metadata": {},
   "outputs": [
    {
     "data": {
      "image/png": "[encoded data removed]",
      "text/plain": [
       "<Figure size 432x288 with 1 Axes>"
      ]
     },
     "metadata": {},
     "output_type": "display_data"
    }
   ],
   "source": [
    "for centroid in centroids:\n",
    "    plt.scatter(centroids[centroid][0], centroids[centroid][1], marker='o', color='k', s=50)\n",
    "\n",
    "for classification in classifications:\n",
    "    color = colors[classification]\n",
    "    for featureset in classifications[classification]:\n",
    "        plt.scatter(featureset[0], featureset[1], marker='.', color=color, s=50)\n",
    "\n",
    "#xtest = np.array([[1,3],\n",
    "#                  [8,9],\n",
    " #                 [0,3],\n",
    "  #                [5,4],\n",
    "   #               [6,4],\n",
    "    #             [2,3]])\n",
    "\n",
    "#for unknown in xtest:\n",
    " #   classification = predict(unknown,centroids)\n",
    "  #  plt.scatter(unknown[0], unknown[1], marker='*', color=colors[classification], s=50)"
   ]
  },
  {
   "cell_type": "code",
   "execution_count": 165,
   "metadata": {},
   "outputs": [],
   "source": [
    "def acc(xt,yt):\n",
    "    correct=0\n",
    "    for i in range(len(xt)):\n",
    "        p=predict(xt,centroids)\n",
    "        if p==yt[i]:\n",
    "            correct+=1\n",
    "    return (f'accuracy: {correct/len(xt)}')\n",
    "    "
   ]
  },
  {
   "cell_type": "code",
   "execution_count": 166,
   "metadata": {},
   "outputs": [
    {
     "data": {
      "text/plain": [
       "'accuracy: 0.3225806451612903'"
      ]
     },
     "execution_count": 166,
     "metadata": {},
     "output_type": "execute_result"
    }
   ],
   "source": [
    "acc(xtest,ytest)"
   ]
  },
  {
   "cell_type": "code",
   "execution_count": null,
   "metadata": {},
   "outputs": [],
   "source": []
  },
  {
   "cell_type": "code",
   "execution_count": null,
   "metadata": {},
   "outputs": [],
   "source": []
  }
 ],
 "metadata": {
  "kernelspec": {
   "display_name": "Python 3",
   "language": "python",
   "name": "python3"
  },
  "language_info": {
   "codemirror_mode": {
    "name": "ipython",
    "version": 3
   },
   "file_extension": ".py",
   "mimetype": "text/x-python",
   "name": "python",
   "nbconvert_exporter": "python",
   "pygments_lexer": "ipython3",
   "version": "3.6.5"
  }
 },
 "nbformat": 4,
 "nbformat_minor": 2
}
